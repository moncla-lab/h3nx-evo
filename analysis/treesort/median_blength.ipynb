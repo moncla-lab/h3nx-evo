{
 "cells": [
  {
   "cell_type": "code",
   "execution_count": 18,
   "id": "cce55a96-a785-4fc4-8630-0adb8c03fdba",
   "metadata": {},
   "outputs": [],
   "source": [
    "import baltic as bt\n",
    "import pandas as pd\n",
    "import json\n",
    "import os\n",
    "import matplotlib as mpl\n",
    "from matplotlib import pyplot as plt\n",
    "import requests\n",
    "from io import StringIO as sio\n",
    "from matplotlib.patches import Patch\n",
    "import matplotlib.ticker as ticker\n",
    "import itertools\n",
    "import re\n",
    "import sys\n",
    "import pprint\n",
    "import statistics\n",
    "\n",
    "module_dir = \"/Users/monclalab1/Documents/scripts/\"\n",
    "sys.path.append(module_dir)\n",
    "\n",
    "from fasta_editing import fasta_to_df, fasta_writer\n",
    "\n",
    "list_of_genes = [\"ha\", \"pb2\",\"pb1\",\"na\",\"np\",\"pa\",\"ns\",\"mp\"] "
   ]
  },
  {
   "cell_type": "code",
   "execution_count": 19,
   "id": "23f33f18-38cd-4f07-910d-06889c229241",
   "metadata": {},
   "outputs": [
    {
     "name": "stdout",
     "output_type": "stream",
     "text": [
      "\n",
      "Tree height: 498.300000\n",
      "Tree length: 24223.443000\n",
      "annotations present\n",
      "\n",
      "Numbers of objects in tree: 9512 (4251 nodes and 5261 leaves)\n",
      "\n"
     ]
    }
   ],
   "source": [
    "mytree, mymeta = bt.loadJSON(\"h3nx_na.json\")"
   ]
  },
  {
   "cell_type": "code",
   "execution_count": 21,
   "id": "d058ae3e-65c4-41ca-8b90-40cc3b855a09",
   "metadata": {},
   "outputs": [
    {
     "name": "stdout",
     "output_type": "stream",
     "text": [
      "median substitutions per branch for whole tree: 1.0\n"
     ]
    }
   ],
   "source": [
    "# median subs per branch in this context means nt mutations\n",
    "# for whole tree\n",
    "\n",
    "\n",
    "# branch_lengths = []\n",
    "\n",
    "# for k in mytree.Objects:\n",
    "    \n",
    "#     blengths = blength(mytree, k)\n",
    "#     branch_lengths.append(blengths)\n",
    "\n",
    "# # print(branch_lengths)\n",
    "    \n",
    "# print(\"median branch length: \" + str(statistics.median(branch_lengths)) + \" years\")\n",
    "\n",
    "\n",
    "blengths = []\n",
    "\n",
    "for k in mytree.Objects:\n",
    "    nt_mutations = [mut for mut in k.traits[\"branch_attrs\"][\"mutations\"].get(\"nuc\", []) \n",
    "                    if \"-\" not in mut and \"N\" not in mut\n",
    "                   ]\n",
    "    \n",
    "    blengths.append(str(len(nt_mutations)))\n",
    "    \n",
    "int_list = [int(x) for x in blengths]\n",
    "    \n",
    "print(\"median substitutions per branch for whole tree: \" + str(statistics.median(int_list)))\n",
    "\n",
    "\n"
   ]
  },
  {
   "cell_type": "code",
   "execution_count": 27,
   "id": "661afc22-7144-42cb-9aea-d95f109bf7d9",
   "metadata": {},
   "outputs": [
    {
     "name": "stdout",
     "output_type": "stream",
     "text": [
      "Equine NODE_0001377\n",
      "Avian NODE_0001000\n",
      "Canine NODE_0002694\n",
      "Swine NODE_0003062\n",
      "Human NODE_0003395\n",
      "{'Avian': ['1'],\n",
      " 'Canine': ['0'],\n",
      " 'Equine': ['1.0'],\n",
      " 'Human': ['1'],\n",
      " 'Swine': ['2']}\n"
     ]
    }
   ],
   "source": [
    "# per subtree\n",
    "\n",
    "#ha backbone\n",
    "# node_list = { \"Equine\" : \"NODE_0001231\", \n",
    "#              \"Canine\" : \"NODE_0001996\",\n",
    "#              # \"Avian\" : \"NODE_0000594\", #NA\n",
    "#              \"Avian\" : \"NODE_0001504\", #EURASIA\n",
    "#              # \"Swine\" : \"NODE_0003097\", #EURO\n",
    "#              \"Swine\" : \"NODE_0004463\", #NA\n",
    "#              \"Human\" : \"NODE_0002963\"\n",
    "#             }\n",
    "\n",
    "#na backbone\n",
    "node_list = { \"Equine\" : \"NODE_0001377\", \n",
    "             \"Canine\" : \"NODE_0002694\",\n",
    "             # \"Avian\" : \"NODE_0000594\", #NA\n",
    "             \"Avian\" : \"NODE_0001000\", #avian 1\n",
    "             \"Swine\" : \"NODE_0003062\", #EURO\n",
    "             # \"Swine\" : \"NODE_0004343\", # NA\n",
    "             \"Human\" : \"NODE_0003395\"\n",
    "            }\n",
    "\n",
    "\n",
    "blength_by_host = {key: [] for key in node_list}\n",
    "\n",
    "\n",
    "for k in mytree.Objects:\n",
    "    for host, node in node_list.items():\n",
    "        if k.name == node:\n",
    "            blengths = []\n",
    "            traverse_condition=lambda k:k.traits[\"host\"]==host\n",
    "            subtree = mytree.subtree(k,traverse_condition = traverse_condition)\n",
    "            print(host, k.name)\n",
    "            for j in subtree.Objects:\n",
    "                nt_mutations = [mut for mut in j.traits[\"branch_attrs\"][\"mutations\"].get(\"nuc\", []) \n",
    "                                if \"-\" not in mut and \"N\" not in mut\n",
    "                               ]\n",
    "                blengths.append(str(len(nt_mutations)))\n",
    "                int_list = [int(x) for x in blengths]\n",
    "                \n",
    "            blength_by_host[host].append(str(statistics.median(int_list)))\n",
    "    \n",
    "\n",
    "\n",
    "pprint.pprint(blength_by_host)"
   ]
  },
  {
   "cell_type": "code",
   "execution_count": null,
   "id": "fa59ffb2-9123-4556-b6ab-dc281da514a5",
   "metadata": {},
   "outputs": [],
   "source": []
  }
 ],
 "metadata": {
  "kernelspec": {
   "display_name": "Python 3 (ipykernel)",
   "language": "python",
   "name": "python3"
  },
  "language_info": {
   "codemirror_mode": {
    "name": "ipython",
    "version": 3
   },
   "file_extension": ".py",
   "mimetype": "text/x-python",
   "name": "python",
   "nbconvert_exporter": "python",
   "pygments_lexer": "ipython3",
   "version": "3.10.9"
  }
 },
 "nbformat": 4,
 "nbformat_minor": 5
}
