{
 "cells": [
  {
   "cell_type": "code",
   "execution_count": 1,
   "id": "579d9aca-6f3d-4e1b-9302-0c9559e968dd",
   "metadata": {},
   "outputs": [],
   "source": [
    "import baltic as bt\n",
    "import pandas as pd\n",
    "import json\n",
    "import os\n",
    "import matplotlib as mpl\n",
    "from matplotlib import pyplot as plt\n",
    "import requests\n",
    "from io import StringIO as sio\n",
    "from matplotlib.patches import Patch\n",
    "import matplotlib.ticker as ticker\n",
    "import itertools\n",
    "import re\n",
    "import sys\n",
    "import subprocess\n",
    "from Bio import Phylo\n",
    "\n",
    "module_dir = \"/Users/monclalab1/Documents/scripts/\"\n",
    "sys.path.append(module_dir)\n",
    "\n",
    "from fasta_editing import fasta_to_df, fasta_writer\n",
    "\n",
    "list_of_genes = [\"ha\", \"pb2\",\"pb1\",\"na\",\"np\",\"pa\",\"ns\",\"mp\"] "
   ]
  },
  {
   "cell_type": "code",
   "execution_count": 2,
   "id": "25537eda-d2c0-430a-bd72-038b66b44c73",
   "metadata": {},
   "outputs": [],
   "source": [
    "''' \n",
    "1. gets rid of the index stuff and turns tree 1 into Tree tree1 \n",
    "2. replaces commas with \"-\" (where the reassorted segments are inferred)\n",
    "3. remove the single quotation marks around NODE_####\n",
    "4. replaces ? with _ (where there is an undetermined reassortment event)\n",
    "5. removes parantheses so that phylo.bio can add in node names \n",
    "    - must be removed again using add_back_para() so baltic can read it in\n",
    "    \n",
    "'''\n",
    "\n",
    "def treesort_QC(qc_input, qc_output):\n",
    "    \n",
    "    with open(qc_input, 'r') as file:\n",
    "        nexus = file.read()\n",
    "\n",
    "    # removing commas between segments\n",
    "    modified_nexus = re.sub(r'&rea=\"([^\"]+)\"', lambda match: f'&rea=\"{match.group(1).replace(\",\", \"-\")}\"', nexus)\n",
    "    # removing quotation marks around node names\n",
    "    modified_nexus = re.sub(r\"'(NODE_([0-9]{7}))'\", r'\\1', modified_nexus)\n",
    "    # replacing ? with _ so baltic can read it in\n",
    "    modified_nexus = modified_nexus.replace('?', '_')\n",
    "    # removing parenthese around reassorting segments augur traits and phylo bio works on it\n",
    "    modified_nexus = re.sub(r'\\((\\d+)\\)', r'^\\1', modified_nexus)\n",
    "    # removing excess info before tree starts (try just turning into nwk file?)\n",
    "    modified_nexus = re.sub(r\"(?<=BEGIN TREES;)(\\s+TREE 1 = \\[.*?\\])\", r\"\\n    Tree tree1 = \", modified_nexus, flags=re.DOTALL)\n",
    "\n",
    "    with open(qc_output, 'w') as output_file:\n",
    "        output_file.write(modified_nexus)"
   ]
  },
  {
   "cell_type": "code",
   "execution_count": 3,
   "id": "30c9acab-fe07-4acf-a03e-1064dd736485",
   "metadata": {},
   "outputs": [],
   "source": [
    "# using bio phylo package instead of baltic because it can generate tree files\n",
    "# dont really need to do this now that treesort updated code to name the nodes\n",
    "def name_nodes(naming_input, naming_output):\n",
    "\n",
    "    tree = Phylo.read(naming_input, \"nexus\")\n",
    "\n",
    "    # making sure we don't have duplicate node names\n",
    "    node_names = {node.name for node in tree.find_clades() if node.name is not None}\n",
    "\n",
    "    counter = 0\n",
    "\n",
    "    for node in tree.find_clades():\n",
    "\n",
    "        # setting the node names as keys becuase right now they are stored \n",
    "        # as the value. this ignores leaves since they have names\n",
    "        if node.confidence is not None and node.name is None:\n",
    "            node.name = node.confidence\n",
    "\n",
    "        # naming the unnamed bifurcated nodes and setting them as keys\n",
    "        if node.name is None:\n",
    "            counter += 1\n",
    "            potential_node_name = f\"NODE_{str(counter).rjust(7, '0')}\"\n",
    "            while potential_node_name in node_names:\n",
    "                counter += 1\n",
    "                potential_node_name = f\"NODE_{str(counter).rjust(7, '0')}\"\n",
    "\n",
    "            node.name = potential_node_name\n",
    "            # print(potential_node_name, node.comment, node.branch_length)\n",
    "\n",
    "        # treetime doesn't like quotation marks around leaf names\n",
    "        else:\n",
    "            node.name = node.name.replace(\"'\",\"\")\n",
    "\n",
    "    # set branch_length_only to true otherwise it throws errors because \n",
    "    # \"confidence\" is not a float (its the node name)\n",
    "    Phylo.write(tree, naming_output, \"newick\", branch_length_only=True)\n",
    "\n",
    "    # phylo read adds in back splashes when it reads/writes the tree\n",
    "    # removing that here\n",
    "    with open(naming_output, \"r\") as f:\n",
    "        new_tree = f.read()\n",
    "\n",
    "        cleaned = (\n",
    "            new_tree\n",
    "            .replace(\"\\\\'\", \"\")\n",
    "            .replace(\"\\\\[\", \"\")\n",
    "            .replace(\"\\\\]\", \"\")\n",
    "        )\n",
    "\n",
    "    with open(naming_output, \"w\") as f:\n",
    "        f.write(cleaned)\n",
    "        \n",
    "    return(naming_output)"
   ]
  },
  {
   "cell_type": "code",
   "execution_count": 4,
   "id": "a74d8e7f-2d72-4c5f-a27b-e79dbb38be82",
   "metadata": {},
   "outputs": [],
   "source": [
    "def add_back_para(para_input, para_output):\n",
    "\n",
    "    with open(para_input, 'r') as file:\n",
    "        nexus = file.read()\n",
    "\n",
    "    added = re.sub(r'\\^(\\d+)', r'(\\1)', nexus)\n",
    "\n",
    "    with open(para_output, 'w') as output_file:\n",
    "        output_file.write(added)\n",
    "        \n",
    "    return(para_output)"
   ]
  },
  {
   "cell_type": "code",
   "execution_count": 5,
   "id": "eef9afa5-ac74-4960-a5dc-0b9b5c7fbf04",
   "metadata": {},
   "outputs": [],
   "source": [
    "def reassortment_counter(counter_input, counter_output):\n",
    "    \n",
    "    mytree = bt.loadNewick(counter_input, absoluteTime= False, verbose=False)\n",
    "\n",
    "    rea_dict = {}\n",
    "    segments = [\"PB2\", \"PB1\", \"PA\", \"HA\", \"NP\", \"NA\", \"MP\", \"NS\"]\n",
    "\n",
    "    for k in mytree.Objects:\n",
    "        if k.traits[\"is_reassorted\"]:\n",
    "            # Extract and clean reassorted segments\n",
    "            raw_segments = k.traits[\"rea\"]\n",
    "            segment_names = [seg.split(\"(\")[0] for seg in raw_segments.split(\"-\")]\n",
    "            reassorted_segments = f\"{len(segment_names)} ({', '.join(segment_names)})\"\n",
    "\n",
    "            if k.is_node():\n",
    "                rea_dict[k.traits.get(\"label\")] = {\n",
    "                    \"Reassorted\": \"True\",\n",
    "                    \"Reassorted Segments\": reassorted_segments\n",
    "                }\n",
    "            elif k.is_leaf():\n",
    "                rea_dict[k.name] = {\n",
    "                    \"Reassorted\": \"True\",\n",
    "                    \"Reassorted Segments\": reassorted_segments\n",
    "                }\n",
    "        else:\n",
    "            key = (k.traits[\"label\"] if k.is_node() else k.name)\n",
    "            rea_dict[key] = {\"Reassorted\": \"False\"}\n",
    "\n",
    "    branch_dict = {}\n",
    "    for k in mytree.Objects:\n",
    "        if k.traits[\"is_reassorted\"]:\n",
    "            # Use the cleaned reassorted segments from `rea_dict`\n",
    "            if k.is_node():\n",
    "                branch_dict[k.traits.get(\"label\")] = {\n",
    "                    \"labels\": {'Reassorted Segments': rea_dict[k.traits.get(\"label\")]['Reassorted Segments']}\n",
    "                }\n",
    "            elif k.is_leaf():\n",
    "                branch_dict[k.name] = {\n",
    "                    \"labels\": {'Reassorted Segments': rea_dict[k.name]['Reassorted Segments']}\n",
    "                }\n",
    "\n",
    "\n",
    "    out_dict = {'nodes': rea_dict, 'branches': branch_dict}\n",
    "\n",
    "    with open(counter_output, 'w') as f:\n",
    "        json.dump(out_dict, f)\n"
   ]
  },
  {
   "cell_type": "code",
   "execution_count": 6,
   "id": "f781e9b8-dc4f-4d6c-a39f-099759409abe",
   "metadata": {},
   "outputs": [],
   "source": [
    "def wrapper_func(qc_input, qc_output, naming_output, para_output, counter_output):\n",
    "    \n",
    "    treesort_QC(qc_input, qc_output)\n",
    "    name_nodes(qc_output, naming_output)\n",
    "    add_back_para(naming_output, para_output)\n",
    "    reassortment_counter(para_output, counter_output)"
   ]
  },
  {
   "cell_type": "code",
   "execution_count": 9,
   "id": "e432407f-89a3-4950-a560-9cbdd197ad68",
   "metadata": {},
   "outputs": [
    {
     "ename": "CalledProcessError",
     "evalue": "Command '['nextstrain', 'build', '.']' returned non-zero exit status 1.",
     "output_type": "error",
     "traceback": [
      "\u001b[0;31m---------------------------------------------------------------------------\u001b[0m",
      "\u001b[0;31mCalledProcessError\u001b[0m                        Traceback (most recent call last)",
      "Cell \u001b[0;32mIn[9], line 12\u001b[0m\n\u001b[1;32m      4\u001b[0m     wrapper_func(\u001b[38;5;124mf\u001b[39m\u001b[38;5;124m\"\u001b[39m\u001b[38;5;124mtrees_\u001b[39m\u001b[38;5;132;01m{\u001b[39;00mi\u001b[38;5;132;01m}\u001b[39;00m\u001b[38;5;124m/annotated.tree\u001b[39m\u001b[38;5;124m\"\u001b[39m, \n\u001b[1;32m      5\u001b[0m                  \u001b[38;5;124mf\u001b[39m\u001b[38;5;124m\"\u001b[39m\u001b[38;5;124mtrees_\u001b[39m\u001b[38;5;132;01m{\u001b[39;00mi\u001b[38;5;132;01m}\u001b[39;00m\u001b[38;5;124m/modified_no-para_treesort.tre\u001b[39m\u001b[38;5;124m\"\u001b[39m,\n\u001b[1;32m      6\u001b[0m                  \u001b[38;5;124mf\u001b[39m\u001b[38;5;124m\"\u001b[39m\u001b[38;5;124mtrees_\u001b[39m\u001b[38;5;132;01m{\u001b[39;00mi\u001b[38;5;132;01m}\u001b[39;00m\u001b[38;5;124m/named_h3nx_\u001b[39m\u001b[38;5;132;01m{\u001b[39;00mref\u001b[38;5;132;01m}\u001b[39;00m\u001b[38;5;124m.nwk\u001b[39m\u001b[38;5;124m\"\u001b[39m, \n\u001b[1;32m      7\u001b[0m                  \u001b[38;5;124mf\u001b[39m\u001b[38;5;124m\"\u001b[39m\u001b[38;5;124mtrees_\u001b[39m\u001b[38;5;132;01m{\u001b[39;00mi\u001b[38;5;132;01m}\u001b[39;00m\u001b[38;5;124m/for_plotting.nwk\u001b[39m\u001b[38;5;124m\"\u001b[39m, \n\u001b[1;32m      8\u001b[0m                  \u001b[38;5;124mf\u001b[39m\u001b[38;5;124m\"\u001b[39m\u001b[38;5;124mtrees_\u001b[39m\u001b[38;5;132;01m{\u001b[39;00mi\u001b[38;5;132;01m}\u001b[39;00m\u001b[38;5;124m/h3nx_\u001b[39m\u001b[38;5;132;01m{\u001b[39;00mref\u001b[38;5;132;01m}\u001b[39;00m\u001b[38;5;124m_rea.json\u001b[39m\u001b[38;5;124m\"\u001b[39m\n\u001b[1;32m      9\u001b[0m                 )\n\u001b[1;32m     11\u001b[0m nextstrain_cmd \u001b[38;5;241m=\u001b[39m [\u001b[38;5;124m\"\u001b[39m\u001b[38;5;124mnextstrain\u001b[39m\u001b[38;5;124m\"\u001b[39m, \u001b[38;5;124m\"\u001b[39m\u001b[38;5;124mbuild\u001b[39m\u001b[38;5;124m\"\u001b[39m, \u001b[38;5;124m\"\u001b[39m\u001b[38;5;124m.\u001b[39m\u001b[38;5;124m\"\u001b[39m]\n\u001b[0;32m---> 12\u001b[0m \u001b[43msubprocess\u001b[49m\u001b[38;5;241;43m.\u001b[39;49m\u001b[43mrun\u001b[49m\u001b[43m(\u001b[49m\u001b[43mnextstrain_cmd\u001b[49m\u001b[43m,\u001b[49m\u001b[43m \u001b[49m\u001b[43mcheck\u001b[49m\u001b[38;5;241;43m=\u001b[39;49m\u001b[38;5;28;43;01mTrue\u001b[39;49;00m\u001b[43m,\u001b[49m\u001b[43m \u001b[49m\u001b[43mstdout\u001b[49m\u001b[38;5;241;43m=\u001b[39;49m\u001b[43msubprocess\u001b[49m\u001b[38;5;241;43m.\u001b[39;49m\u001b[43mDEVNULL\u001b[49m\u001b[43m,\u001b[49m\u001b[43m \u001b[49m\u001b[43mstderr\u001b[49m\u001b[38;5;241;43m=\u001b[39;49m\u001b[43msubprocess\u001b[49m\u001b[38;5;241;43m.\u001b[39;49m\u001b[43mSTDOUT\u001b[49m\u001b[43m)\u001b[49m\n",
      "File \u001b[0;32m~/anaconda3/lib/python3.10/subprocess.py:526\u001b[0m, in \u001b[0;36mrun\u001b[0;34m(input, capture_output, timeout, check, *popenargs, **kwargs)\u001b[0m\n\u001b[1;32m    524\u001b[0m     retcode \u001b[38;5;241m=\u001b[39m process\u001b[38;5;241m.\u001b[39mpoll()\n\u001b[1;32m    525\u001b[0m     \u001b[38;5;28;01mif\u001b[39;00m check \u001b[38;5;129;01mand\u001b[39;00m retcode:\n\u001b[0;32m--> 526\u001b[0m         \u001b[38;5;28;01mraise\u001b[39;00m CalledProcessError(retcode, process\u001b[38;5;241m.\u001b[39margs,\n\u001b[1;32m    527\u001b[0m                                  output\u001b[38;5;241m=\u001b[39mstdout, stderr\u001b[38;5;241m=\u001b[39mstderr)\n\u001b[1;32m    528\u001b[0m \u001b[38;5;28;01mreturn\u001b[39;00m CompletedProcess(process\u001b[38;5;241m.\u001b[39margs, retcode, stdout, stderr)\n",
      "\u001b[0;31mCalledProcessError\u001b[0m: Command '['nextstrain', 'build', '.']' returned non-zero exit status 1."
     ]
    }
   ],
   "source": [
    "ref = \"mp\"\n",
    "for i in range(1,4):\n",
    "    \n",
    "    wrapper_func(f\"trees_{i}/annotated.tree\", \n",
    "                 f\"trees_{i}/modified_no-para_treesort.tre\",\n",
    "                 f\"trees_{i}/named_h3nx_{ref}.nwk\", \n",
    "                 f\"trees_{i}/for_plotting.nwk\", \n",
    "                 f\"trees_{i}/h3nx_{ref}_rea.json\"\n",
    "                )\n",
    "    \n",
    "nextstrain_cmd = [\"nextstrain\", \"build\", \".\"]\n",
    "subprocess.run(nextstrain_cmd, check=True, stdout=subprocess.DEVNULL, stderr=subprocess.STDOUT)"
   ]
  },
  {
   "cell_type": "code",
   "execution_count": 10,
   "id": "d810052c-a07e-467a-92cc-3318302b0ac0",
   "metadata": {},
   "outputs": [
    {
     "data": {
      "text/plain": [
       "CompletedProcess(args=['nextstrain', 'build', '.'], returncode=0)"
      ]
     },
     "execution_count": 10,
     "metadata": {},
     "output_type": "execute_result"
    }
   ],
   "source": [
    "nextstrain_cmd = [\"nextstrain\", \"build\", \".\"]\n",
    "subprocess.run(nextstrain_cmd, check=True, stdout=subprocess.DEVNULL, stderr=subprocess.STDOUT)"
   ]
  },
  {
   "cell_type": "code",
   "execution_count": null,
   "id": "21b2567b-2797-489a-a2ae-4e885dae1f34",
   "metadata": {},
   "outputs": [],
   "source": []
  }
 ],
 "metadata": {
  "kernelspec": {
   "display_name": "Python 3 (ipykernel)",
   "language": "python",
   "name": "python3"
  },
  "language_info": {
   "codemirror_mode": {
    "name": "ipython",
    "version": 3
   },
   "file_extension": ".py",
   "mimetype": "text/x-python",
   "name": "python",
   "nbconvert_exporter": "python",
   "pygments_lexer": "ipython3",
   "version": "3.10.9"
  }
 },
 "nbformat": 4,
 "nbformat_minor": 5
}
