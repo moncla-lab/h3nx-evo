{
 "cells": [
  {
   "cell_type": "code",
   "execution_count": 1,
   "id": "f4b83cb8-3711-47a7-b9b3-38df48e0bbc9",
   "metadata": {},
   "outputs": [],
   "source": [
    "import pandas as pd\n",
    "import os\n",
    "import re\n",
    "import sys\n",
    "import json\n",
    "import argparse"
   ]
  },
  {
   "cell_type": "code",
   "execution_count": 4,
   "id": "db0e13c4-ac14-43d0-9a99-21fb9805beb1",
   "metadata": {},
   "outputs": [
    {
     "data": {
      "text/plain": [
       "_StoreAction(option_strings=['--descriptor'], dest='descriptor', nargs=None, const=None, default=None, type=<class 'str'>, choices=None, required=True, help='path to descriptor.csv', metavar=None)"
      ]
     },
     "execution_count": 4,
     "metadata": {},
     "output_type": "execute_result"
    }
   ],
   "source": [
    "parser = argparse.ArgumentParser()\n",
    "parser.add_argument('--paths', type=str, required=True, nargs='+', help='paths to divergence trees')\n",
    "parser.add_argument('--rep', type=str, required=True, help='rep snakefile is on')\n",
    "parser.add_argument('--descriptor', type=str, required=True, help='path to descriptor.csv')"
   ]
  },
  {
   "cell_type": "code",
   "execution_count": 6,
   "id": "4b4f03e0-4b53-4048-ba56-62b0bf7adf1a",
   "metadata": {},
   "outputs": [
    {
     "name": "stderr",
     "output_type": "stream",
     "text": [
      "usage: ipykernel_launcher.py [-h] --paths PATHS --rep REP --descriptor\n",
      "                             DESCRIPTOR\n",
      "ipykernel_launcher.py: error: the following arguments are required: --paths, --rep, --descriptor\n"
     ]
    },
    {
     "ename": "SystemExit",
     "evalue": "2",
     "output_type": "error",
     "traceback": [
      "An exception has occurred, use %tb to see the full traceback.\n",
      "\u001b[0;31mSystemExit\u001b[0m\u001b[0;31m:\u001b[0m 2\n"
     ]
    }
   ],
   "source": [
    "args = parser.parse_args()\n",
    "\n",
    "list_of_genes = [\"ha\", \"pb2\",\"pb1\",\"na\",\"np\",\"pa\",\"ns\",\"mp\"]\n",
    "\n",
    "descriptor_entries = []\n",
    "\n",
    "for gene in list_of_genes:\n",
    "    \n",
    "    gene_label = f\"*{gene.upper()}\" if gene == \"ha\" else gene.upper()\n",
    "    align_path = f\"data/alignments/h3nx_{gene}.fasta\"\n",
    "    \n",
    "    if gene == \"ha\":\n",
    "        backbone_path = \"data/ha/output.nwk\"\n",
    "        descriptor_entries.append([gene_label, align_path, backbone_path])\n",
    "            \n",
    "    else:\n",
    "        div_path = f\"results/{args.rep}/h3nx_{gene}_rooted/rerooted.newick\"\n",
    "        descriptor_entries.append([gene_label, align_path, div_path])\n",
    "\n",
    "    # descriptor csv\n",
    "    with open(f\"{args.descriptor}\", 'w') as descriptor_file:\n",
    "        for row in descriptor_entries:\n",
    "            descriptor_file.write(','.join(row) + '\\n')\n",
    "    "
   ]
  },
  {
   "cell_type": "code",
   "execution_count": null,
   "id": "c6222674-69c8-4041-89f1-4f25dede5523",
   "metadata": {},
   "outputs": [],
   "source": []
  }
 ],
 "metadata": {
  "kernelspec": {
   "display_name": "Python 3 (ipykernel)",
   "language": "python",
   "name": "python3"
  },
  "language_info": {
   "codemirror_mode": {
    "name": "ipython",
    "version": 3
   },
   "file_extension": ".py",
   "mimetype": "text/x-python",
   "name": "python",
   "nbconvert_exporter": "python",
   "pygments_lexer": "ipython3",
   "version": "3.10.9"
  }
 },
 "nbformat": 4,
 "nbformat_minor": 5
}
