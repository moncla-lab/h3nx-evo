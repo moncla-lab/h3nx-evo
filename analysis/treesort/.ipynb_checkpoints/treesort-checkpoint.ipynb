{
 "cells": [
  {
   "cell_type": "code",
   "execution_count": 1,
   "id": "8439e638-39d9-49b9-a10a-8e776431d093",
   "metadata": {},
   "outputs": [],
   "source": [
    "import pandas as pd\n",
    "import os "
   ]
  },
  {
   "cell_type": "code",
   "execution_count": 1,
   "id": "2bb1aa0b-9b20-4f74-93fe-2043c27b60c8",
   "metadata": {},
   "outputs": [],
   "source": [
    "#treesort_prep function was needed before the condition_on_ha build was made. this code \n",
    "#ensures that strains are consistent across all segments\n",
    "#however, date_updater is still needed because treesort does not allow XX-XX-XXXX dates"
   ]
  },
  {
   "cell_type": "code",
   "execution_count": 2,
   "id": "ac33cf26-5eac-474d-9974-8983fe409e2c",
   "metadata": {},
   "outputs": [],
   "source": [
    "#this converts fasta files into dataframes\n",
    "\n",
    "def fasta_to_df(fasta_file):\n",
    "    \n",
    "    fasta_data = []\n",
    "    \n",
    "    with open(fasta_file) as f:\n",
    "        header = \"\"\n",
    "        sequence = \"\"\n",
    "        for line in f:\n",
    "            if line.startswith(\">\"):\n",
    "                if header != \"\":\n",
    "                    fasta_data.append({\"header\": header, \"sequence\": sequence})\n",
    "                header = line.strip() \n",
    "                sequence = \"\"\n",
    "            else:\n",
    "                sequence += line.strip()\n",
    "        fasta_data.append({\"header\": header, \"sequence\": sequence}) #last line\n",
    "            \n",
    "    return pd.DataFrame(fasta_data)"
   ]
  },
  {
   "cell_type": "code",
   "execution_count": 3,
   "id": "4ecf5862-6452-4153-aea4-dfb1c91d293e",
   "metadata": {},
   "outputs": [],
   "source": [
    "def fasta_writer(path, filename, df):\n",
    "            \n",
    "    try:  \n",
    "        os.mkdir(path)\n",
    "\n",
    "    except OSError as error:\n",
    "        pass\n",
    "\n",
    "    with open(f\"{path}{filename}\", \"w\") as f:\n",
    "        for index, row in df.iterrows():\n",
    "            f.write(f\"{row['header']}\\n\")\n",
    "            f.write(f\"{row['sequence']}\\n\")"
   ]
  },
  {
   "cell_type": "code",
   "execution_count": 4,
   "id": "5b281f8c-9035-430f-9452-551134dffb6d",
   "metadata": {},
   "outputs": [],
   "source": [
    "def deduper(list_of_genes):\n",
    "    \n",
    "    genes = list_of_genes\n",
    "    clades = list_of_clades\n",
    "    \n",
    "    for clade in clades:\n",
    "        for gene in genes:\n",
    "\n",
    "            df = fasta_to_df(f\"./{clade}/h3nx_{gene}.fa\")\n",
    "\n",
    "            #print(f\"{gene} {df.shape}\")\n",
    "\n",
    "            df['strain'] = df['header'].str.split(\"|\").str[0].str.lower()\n",
    "\n",
    "            df = df.drop_duplicates(subset=['strain'])\n",
    "\n",
    "            #print(f\"{gene} {df.shape}\")\n",
    "\n",
    "            fasta_writer(f\"./{clade}/\", f\"h3nx_{gene}.fasta\", df)"
   ]
  },
  {
   "cell_type": "code",
   "execution_count": 25,
   "id": "d0a3c330-dbee-4b91-a0ba-04e10e825f5a",
   "metadata": {},
   "outputs": [],
   "source": [
    "#this ensures that all 7 segments include all strains that are present in the \n",
    "#HA clades to effectively capture reassortment events\n",
    "# only keep strains that are the intersection of all segments\n",
    "\n",
    "def treesort_prep(list_of_clades, list_of_genes):\n",
    "\n",
    "    clades = list_of_clades\n",
    "    genes = list_of_genes\n",
    "    \n",
    "    for clade in clades:\n",
    "        \n",
    "        df_ha = fasta_to_df(f\"./{clade}/h3nx_ha.fasta\")\n",
    "        df_ha['Strain'] = df_ha['header'].str.split(\"|\").str[0]\n",
    "        # print(f\"{clade} and gene ha: {df_ha.shape[0]}\")\n",
    "        unique_strains = []\n",
    "        \n",
    "        for gene in genes:\n",
    "            master_file = f\"./sequences/h3nx_{gene}.fasta\"\n",
    "            \n",
    "            df_master = fasta_to_df(master_file)\n",
    "            df_master['Strain'] = df_master['header'].str.split(\"|\").str[0]\n",
    "            \n",
    "            #this makes it so each segment has the strains present in the HA clade\n",
    "            new_df = df_master[df_master[\"Strain\"].isin(df_ha.Strain.values)]\n",
    "            # print(f\"{clade} and {gene}: {new_df.shape[0]}\")\n",
    "            \n",
    "            unique_strains.append(set(new_df.Strain.unique()))\n",
    "        \n",
    "        shared_strains = set.intersection(*unique_strains) #the * unpacks the list\n",
    "        # print(f\"shared strains: {len(shared_strains)}\")\n",
    "        \n",
    "        for gene in genes:\n",
    "            master_file = f\"./sequences/h3nx_{gene}.fasta\"\n",
    "            \n",
    "            df_master = fasta_to_df(master_file)\n",
    "            df_master['Strain'] = df_master['header'].str.split(\"|\").str[0]\n",
    "            \n",
    "            #this makes it so each segment has the strains present in the HA clade\n",
    "            new_df = df_master[df_master[\"Strain\"].isin(df_ha.Strain.values)]\n",
    "            \n",
    "            #updating each fasta file to have only the intersection\n",
    "            shared_strains_df = new_df[new_df[\"Strain\"].isin(shared_strains)]\n",
    "            \n",
    "            fasta_writer(f\"./{clade}_treesort/\", f\"h3nx_{gene}.fasta\",  shared_strains_df)\n",
    "            \n",
    "        ha_updated = df_ha[df_ha[\"Strain\"].isin(shared_strains)]\n",
    "        fasta_writer(f\"./{clade}_treesort/\", f\"h3nx_ha.fasta\", ha_updated)"
   ]
  },
  {
   "cell_type": "code",
   "execution_count": 6,
   "id": "2899033d-3484-42f3-9333-0db214ca0dcc",
   "metadata": {},
   "outputs": [],
   "source": [
    "def date_updater(list_of_clades, list_of_genes):\n",
    "    \n",
    "    clades = list_of_clades\n",
    "    genes = list_of_genes\n",
    "    \n",
    "    for clade in clades:\n",
    "        for gene in genes:\n",
    "            \n",
    "            df = fasta_to_df(f\"./treesort/{clade}_treesort/h3nx_{gene}.fasta\")\n",
    "            df['strain'] = df['header'].str.split(\"|\").str[0]\n",
    "            df['1'] = df['header'].str.split(\"|\").str[1]\n",
    "            df['2'] = df['header'].str.split(\"|\").str[2]\n",
    "            df['date'] = df['header'].str.split(\"|\").str[3]\n",
    "            df['4'] = df['header'].str.split(\"|\").str[4]\n",
    "            df['5'] = df['header'].str.split(\"|\").str[5]\n",
    "            df['6'] = df['header'].str.split(\"|\").str[6]\n",
    "            df['7'] = df['header'].str.split(\"|\").str[7]\n",
    "            df['8'] = df['header'].str.split(\"|\").str[8]\n",
    "            df['9'] = df['header'].str.split(\"|\").str[9]\n",
    "            \n",
    "            df[\"date\"] = df[\"date\"].str.replace('XX', '01')\n",
    "            df['strain'] = df[[\"strain\", \"date\"]].apply('|'.join, axis=1)\n",
    "            \n",
    "            df['header'] = df[['strain', '1', '2', 'date', \n",
    "                               '4', '5', '6', '7', '8' , '9']].apply('^'.join, axis=1)\n",
    "            \n",
    "            fasta_writer(f\"./treesort/{clade}_treesort/updated/\", f\"h3nx_{clade}_{gene}.fasta\", df)\n",
    "            "
   ]
  },
  {
   "cell_type": "code",
   "execution_count": 21,
   "id": "f05ac3ad-6826-41cb-a62d-c0dcd0991ab8",
   "metadata": {},
   "outputs": [],
   "source": [
    "list_of_clades = [\"canineH3N2\", \"human\", \"euroSwine\", \"chinaVietSwine\", \"thaiSwine\", \"NA1995Swine\"]\n",
    "\n",
    "list_of_genes = [\"ha\", \"pb2\",\"pb1\",\"na\",\"np\",\"pa\",\"ns\",\"mp\"] #remove HA when you are running treesort_prep\n"
   ]
  },
  {
   "cell_type": "code",
   "execution_count": 20,
   "id": "da24e9c6-7743-4d89-a6ba-ceb372fd2425",
   "metadata": {},
   "outputs": [],
   "source": [
    "deduper(list_of_genes)"
   ]
  },
  {
   "cell_type": "code",
   "execution_count": 27,
   "id": "958e3f0a-035c-4719-a33f-cf79ed19e5e5",
   "metadata": {},
   "outputs": [],
   "source": [
    "treesort_prep(list_of_clades, list_of_genes)"
   ]
  },
  {
   "cell_type": "code",
   "execution_count": 28,
   "id": "e65afb77-3301-4318-ba33-b831f9d6c4a0",
   "metadata": {},
   "outputs": [],
   "source": [
    "date_updater(list_of_clades, list_of_genes)"
   ]
  },
  {
   "cell_type": "code",
   "execution_count": null,
   "id": "a2982fe2-2219-4e48-96fd-787211fda987",
   "metadata": {},
   "outputs": [],
   "source": []
  }
 ],
 "metadata": {
  "kernelspec": {
   "display_name": "Python 3 (ipykernel)",
   "language": "python",
   "name": "python3"
  },
  "language_info": {
   "codemirror_mode": {
    "name": "ipython",
    "version": 3
   },
   "file_extension": ".py",
   "mimetype": "text/x-python",
   "name": "python",
   "nbconvert_exporter": "python",
   "pygments_lexer": "ipython3",
   "version": "3.10.9"
  }
 },
 "nbformat": 4,
 "nbformat_minor": 5
}
