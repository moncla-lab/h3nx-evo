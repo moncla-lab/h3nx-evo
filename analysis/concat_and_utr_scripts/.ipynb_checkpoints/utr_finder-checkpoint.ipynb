{
 "cells": [
  {
   "cell_type": "code",
   "execution_count": 30,
   "id": "aa0bd7bf-234a-4aa2-a020-e0e4c1b55074",
   "metadata": {},
   "outputs": [],
   "source": [
    "import pandas as pd\n",
    "import baltic as bt\n",
    "import numpy as np\n",
    "import os\n",
    "import sys\n",
    "from collections import Counter\n",
    "\n",
    "module_dir = \"/Users/monclalab1/Documents/scripts/\"\n",
    "sys.path.append(module_dir)\n",
    "\n",
    "from fasta_editing import fasta_to_df, fasta_writer"
   ]
  },
  {
   "cell_type": "code",
   "execution_count": 2,
   "id": "a1845767-0a9c-45fd-88e6-9e812d2cebed",
   "metadata": {},
   "outputs": [],
   "source": [
    "df = fasta_to_df(\"utr_h3nx_na.fasta\")"
   ]
  },
  {
   "cell_type": "code",
   "execution_count": 35,
   "id": "1222c4e4-ec8b-4bea-8e25-cf9dbb6d863f",
   "metadata": {},
   "outputs": [
    {
     "name": "stdout",
     "output_type": "stream",
     "text": [
      "dict_values(['agcaaaagcaggagtaaaa', 'agcaaaagcaggagtgaaa', 'agcaaaagcaggagtgaaa', 'agcaaaagcaggagtaaaa', 'agcaaaagcaggagtaaaa', 'agcaaaagcaggagtaaaa', 'agcaaaagcaggagtaaaa', 'agcaaaagcaggagtaaaa', 'agcaaaagcaggagtaaaa', 'agcaaaagcaggagtaaaa', 'agcaaaagcaggagtaaaa', 'agcaaaagcaggagtaaaa', 'agcaaaagcaggagtaaaa', 'agcaaaagcaggagtaaaa', 'agcaaaagcaggagtaaaa', 'agcaaaagcaggagtaaaa', 'agcaaaagcaggagtaaaa', 'agcaaaagcaggagtaaaa', 'agcaaaagcaggagtaaaa', 'agcaaaagcaggagtaaaa', 'agcaaaagcaggagtaaaa', 'agcaaaagcaggagtaaaa', 'agcaaaagcaggagtaaaa', 'agcaaaagcaggagtaaaa', 'agcaaaagcaggagtaaaa', 'agcaaaagcaggagtaaaa', 'agcaaaagcaggagtaaaa', 'agcaaaagcaggagtaaaa', 'agcaaaagcaggagtaaaa', 'agcaaaagcaggagtaaaa', 'agcaaaagcaggagtaaaa', 'agcaaaagcaggagtaaaa', 'agcaaaagcaggagtaaaa', 'agcaaaagcaggagtaaaa', 'agcaaaagcaggagtaaaa', 'agcaaaagcaggagtaaag', 'agcaaaagcaggaggaaga', 'agcaaaagcaggagtaaaa', 'agcaaaagcaggagtaaaa', 'agcaaaagcaggagtaaaa', 'agcaaaagcaggagtaaaa', 'agcaaaagcaggagtaaaa', 'agcaaaagcaggagtaaaa', 'agcaaaagcaggagtaaaa', 'agcaaaagcaggagtaaaa', 'agcaaaagcaggagtaaaa', 'agcaaaagcaggagtaaaa', 'agcaaaagcaggagtaaaa', 'agcaaaagcaggagtaaaa', 'agcaaaagcaggagtaaaa', 'agcaaaagcaggagtaaaa', 'agcaaaagcaggagtaaaa', 'agcaaaagcaggagtaaaa', 'agcgaaagcaggagtaaaa', 'agcaaaagcaggagtaaaa', 'agcaaaagcaggagtaaaa', 'agcaaaagcaggagtaaaa', 'agcaaaagcaggagtaaaa', 'agcaaaagcaggagtaaaa', 'agcaaaagcaggagtaaaa', 'agcaaaagcaggagtaaaa', 'agcaaaagcaggagtaaaa', 'agcaaaagcaggagtaaaa', 'agcaaaagcaggagtaaaa', 'agcaaaagcaggagtaaaa', 'agcaaaagcaggagtaaaa', 'agcaaaagcaggagtaaaa', 'agcaaaagcaggagtaaaa', 'agcaaaagcaggagtaaaa', 'agcaaaagcaggagtaaaa', 'agcaaaagcaggagtaaaa', 'agcaaaagcaggagtaaaa', 'agcaaaagcaggagtaaaa', 'agcaaaagcaggagtaaaa', 'agcaaaagcaggagtaaaa', 'agcaaaagcaggagtaaaa', 'agcaaaagcaggagtaaaa', 'agcaaaagcaggagtaaaa', 'agcaaaagcaggagtaaaa', 'agcaaaagcaggagtaaaa', 'agcaaaagcaggagtaaaa', 'agcaaaagcaggagtgaaa', 'agcaaaagcaggagtgaag', 'agcaaaagcaggaggaaga', 'agcaaaagcaggagtaaaa', 'agcaaaagcaggagtaaaa', 'agcaaaagcaggagtaaaa', 'agcaaaagcaggagtaaaa', 'agcnaaagcaggagtaaaa', 'agcaaaagcaggagtaaaa', 'agcaaaagcaggagtaaaa', 'agcaaaagcaggagtaaaa', 'agcgaaagcaggagtaaaa', 'agcaaaagcaggagtaaaa', 'agcaaaagcaggagtaaaa', 'agcaaaagcaggagtaaaa', 'agcaaaagcaggagtaaaa', 'agcaaaagcaggagtaaaa', 'agcaaaagcaggagtaaaa', 'agcaaaagcaggagtaaaa', 'agcaaaagcaggagtaaaa', 'agcaaaagcaggagtaaaa', 'agcaaaagcaggagtaaaa', 'agcgaaagcaggagtaaaa', 'agcaaaagcaggagtaaaa', 'agcaaaagcaggagtaaaa', 'agcaaaagcaggagtaaaa', 'agcaaaagcaggagtaaaa', 'agcaaaagcaggagtaaaa', 'agcgaaagcaggagtaaaa', 'agcaaaagcaggagtaaaa', 'agcaaaagcaggagtaaaa', 'agcaaaagcaggagtaaaa', 'agcaaaagcaggagtaaaa', 'agcaaaagcaggagtaaaa', 'agcaaaagcaggagtaaaa', 'agcaaaagcaggagtaaaa', 'agcraaagcaggagtaaaa', 'agcaaaagcaggagtaaaa', 'agcraaagcaggagtaaaa', 'agcaaaagcaggagtaaaa', 'agcnaaagcaggagtaaaa', 'agcnaaagcaggagtaaaa', 'agcnaaagcaggagtaaaa', 'agcnaaagcaggagtaaaa', 'agcaaaagcaggagtaaaa', 'agcaaaagcaggagtaaaa', 'agcnaaagcaggagtaaaa', 'agcaaaagcaggagtaaaa', 'agcaaaagcaggagtaaaa', 'agcaaaagcaggagtaaaa', 'agcaaaagcaggagtaaaa', 'agcnaaagcaggagtaaaa', 'agcaaaagcaggagtaaaa'])\n"
     ]
    }
   ],
   "source": [
    "df['strain'] = df['header'].str.split(\"|\").str[0].str.extract(r'>(.*)')\n",
    "df['sequence'] = df['sequence'].str.lower()\n",
    "\n",
    "# the sequences that have the UTR will not start with atg or a gap\n",
    "df_with_utr = df[~df['sequence'].str.startswith(('atg', '-'))].copy()\n",
    "\n",
    "# get the UTR\n",
    "df_with_utr['UTR'] = df_with_utr['sequence'].str.split(\"atg\", n=1).str[0]\n",
    "\n",
    "utr_dict = pd.Series(df_with_utr['UTR'].values, index=df_with_utr['strain']).to_dict()\n",
    "\n",
    "print(utr_dict.values())"
   ]
  },
  {
   "cell_type": "raw",
   "id": "1be8cd12-1ea2-4b4f-8f97-cf31bcb04034",
   "metadata": {},
   "source": [
    "mytree, mymeta = bt.loadJSON(\"canine_build/auspice/canine_h3nx_na.json\")"
   ]
  },
  {
   "cell_type": "code",
   "execution_count": 47,
   "id": "6bdc445c-1c39-49e6-a85f-33d5ffa41885",
   "metadata": {},
   "outputs": [],
   "source": [
    "target_node= \"NODE_0000102\"\n",
    "\n",
    "leaves = set()\n",
    "\n",
    "for k in mytree.Objects:\n",
    "    \n",
    "    if k.name == target_node:\n",
    "        \n",
    "        subtree = mytree.subtree(k)\n",
    "        \n",
    "        leaf_strains = {leaf.name for leaf in subtree.getExternal()}\n",
    "        \n",
    "for j in mytree.Objects:\n",
    "    \n",
    "    if j.name in leaf_strains:\n",
    "        continue\n",
    "    elif j.is_leaf():\n",
    "        leaves.add(j.name)\n",
    "        "
   ]
  },
  {
   "cell_type": "code",
   "execution_count": 49,
   "id": "2146b5cf-b3e9-416c-a13e-b78c7323ef9d",
   "metadata": {},
   "outputs": [
    {
     "name": "stdout",
     "output_type": "stream",
     "text": [
      "Counter({'a': 53})\n",
      "Counter({'g': 53})\n",
      "Counter({'c': 53})\n",
      "Counter({'a': 50, 'g': 3})\n",
      "Counter({'a': 53})\n",
      "Counter({'a': 53})\n",
      "Counter({'a': 53})\n",
      "Counter({'g': 53})\n",
      "Counter({'c': 53})\n",
      "Counter({'a': 53})\n",
      "Counter({'g': 53})\n",
      "Counter({'g': 53})\n",
      "Counter({'a': 53})\n",
      "Counter({'g': 53})\n",
      "Counter({'t': 51, 'g': 2})\n",
      "Counter({'a': 50, 'g': 3})\n",
      "Counter({'a': 53})\n",
      "Counter({'a': 51, 'g': 2})\n",
      "Counter({'a': 52, 'g': 1})\n",
      "Consensus UTR: agcaaaagcaggagtaaaa\n"
     ]
    }
   ],
   "source": [
    "utr_sequences = [utr_dict[strain] for strain in leaves if strain in utr_dict]\n",
    "\n",
    "def get_consensus(utr_list):\n",
    "    \"\"\"Computes the consensus sequence from a list of aligned UTR sequences.\"\"\"\n",
    "    if not utr_list:\n",
    "        return None\n",
    "\n",
    "    consensus_sequence = []\n",
    "\n",
    "    for position in zip(*utr_list):  \n",
    "        nucleotide_counts = Counter(position)\n",
    "        print(nucleotide_counts)\n",
    "        most_common_nucleotide = nucleotide_counts.most_common(1)[0][0]\n",
    "        consensus_sequence.append(most_common_nucleotide) \n",
    "\n",
    "    return \"\".join(consensus_sequence)\n",
    "\n",
    "consensus_utr = get_consensus(utr_sequences)\n",
    "\n",
    "print(\"Consensus UTR:\", consensus_utr)\n"
   ]
  },
  {
   "cell_type": "code",
   "execution_count": 34,
   "id": "75de526a-ab60-47ad-a5fb-c533c956fd48",
   "metadata": {},
   "outputs": [
    {
     "name": "stdout",
     "output_type": "stream",
     "text": [
      "Counter({'a': 65})\n",
      "Counter({'g': 65})\n",
      "Counter({'c': 65})\n",
      "Counter({'a': 56, 'n': 6, 'r': 2, 'g': 1})\n",
      "Counter({'a': 65})\n",
      "Counter({'a': 65})\n",
      "Counter({'a': 65})\n",
      "Counter({'g': 65})\n",
      "Counter({'c': 65})\n",
      "Counter({'a': 65})\n",
      "Counter({'g': 65})\n",
      "Counter({'g': 65})\n",
      "Counter({'a': 65})\n",
      "Counter({'g': 65})\n",
      "Counter({'t': 65})\n",
      "Counter({'a': 65})\n",
      "Counter({'a': 65})\n",
      "Counter({'a': 65})\n",
      "Counter({'a': 65})\n",
      "Consensus UTR: agcaaaagcaggagtaaaa\n"
     ]
    }
   ],
   "source": [
    "leaf_strains = {leaf.name for leaf in subtree.getExternal()}\n",
    "\n",
    "utr_sequences = [utr_dict[strain] for strain in leaf_strains if strain in utr_dict]\n",
    "\n",
    "def get_consensus(utr_list):\n",
    "    \"\"\"Computes the consensus sequence from a list of aligned UTR sequences.\"\"\"\n",
    "    if not utr_list:\n",
    "        return None\n",
    "\n",
    "    consensus_sequence = []\n",
    "\n",
    "    for position in zip(*utr_list):  \n",
    "        nucleotide_counts = Counter(position)\n",
    "        print(nucleotide_counts)\n",
    "        most_common_nucleotide = nucleotide_counts.most_common(1)[0][0]\n",
    "        consensus_sequence.append(most_common_nucleotide) \n",
    "\n",
    "    return \"\".join(consensus_sequence)\n",
    "\n",
    "consensus_utr = get_consensus(utr_sequences)\n",
    "\n",
    "print(\"Consensus UTR:\", consensus_utr)\n"
   ]
  },
  {
   "cell_type": "code",
   "execution_count": null,
   "id": "5fe7cfec-9997-4480-beea-07e8b4a2e47c",
   "metadata": {},
   "outputs": [],
   "source": []
  }
 ],
 "metadata": {
  "kernelspec": {
   "display_name": "Python 3 (ipykernel)",
   "language": "python",
   "name": "python3"
  },
  "language_info": {
   "codemirror_mode": {
    "name": "ipython",
    "version": 3
   },
   "file_extension": ".py",
   "mimetype": "text/x-python",
   "name": "python",
   "nbconvert_exporter": "python",
   "pygments_lexer": "ipython3",
   "version": "3.10.9"
  }
 },
 "nbformat": 4,
 "nbformat_minor": 5
}
